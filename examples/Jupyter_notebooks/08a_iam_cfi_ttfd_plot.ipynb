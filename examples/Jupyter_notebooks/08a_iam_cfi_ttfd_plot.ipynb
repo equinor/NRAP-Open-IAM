{
 "cells": [
  {
   "cell_type": "markdown",
   "metadata": {},
   "source": [
    "# Example 8a: Using the Time to First Detection (TTFD) Plot Type To Assess Plume Migration and Monitoring Network Performance in an NRAP-Open-IAM Control File Simulation."
   ]
  },
  {
   "cell_type": "markdown",
   "metadata": {},
   "source": [
    "This example demonstrates how to use the TTFD plot type in the Control File Interface. Specifically, this example examines the setup of the .yaml file for Control File Example 40 (ControlFile_ex40.yaml) as well as the example's output. The figures and .csv files produced show (1) how dissolved CO$_2$ plumes (areas with a relative change in dissolved CO$_2$ concentration > 20 %) change in two aquifers in a simulation with 30 stochastic realizations, (2) the times at which the monitoring wells provided (through x, y, and z coordinates) could detect these plumes, and (3) the probability that a dissolved CO$_2$ plume forms in different regions of the aquifers."
   ]
  },
  {
   "cell_type": "markdown",
   "metadata": {},
   "source": [
    "The TTFD plot type is run after the simulation has been completed. In order to use the plot type, one must set up the system model to include certain components and certain component outputs. For example, the system model must have an aquifer component that produces plume size metrics corresponding to the type of plume being assessed (e.g., Dissolved_CO2_dx, Dissolved_CO2_dy, Dissolved_CO2_dz outputs for TTFD plots examining dissolved CO$_2$ plumes in the aquifer)."
   ]
  },
  {
   "cell_type": "markdown",
   "metadata": {},
   "source": [
    "First, we review the different sections of the .yaml control file. Control files typically use the pound symbol followed by hyphens (#---) to mark separate sections, but these characters are not required. Any symbols following a pound symbol (#) will be ignored by the Python script that reads the .yaml file, so the hyphens are only there as a visual aid. Every control file must have a section called 'ModelParams'. In this section, one specifies the model times to assess ('EndTime: 15' and 'TimeStep: 1', times are in years), the type of analysis to conduct (i.e., deterministic or stochastic, controlled by the 'Analysis' entry), the names of the components included in the system model ('Components'), and the output directory to save the output ('OutputDirectory'). Here, the analysis type is lhs ('type: lhs'), which stands for Latin Hypercube Sampling. This lhs simulation will use 30 stochastic realizations ('siz: 30'). Each entry is followed by a colon (:) followed by input. Some entries take a single input value (e.g., 'EndTime: 15.') or a list of input values ('Components: [LookupTableReservoir1, MultisegmentedWellbore1, FutureGen2AZMI1, FutureGen2AZMI2]'). Some entries have other entries indented beneath them; the indented entry is on a lower line and preceeded by an additional four spaces (e.g., 'type' and 'siz' are indented beneath 'Analysis')."
   ]
  },
  {
   "cell_type": "raw",
   "metadata": {},
   "source": [
    "#-------------------------------------------------\n",
    "ModelParams:\n",
    "    EndTime: 15.\n",
    "    TimeStep: 1\n",
    "    Analysis:\n",
    "        type: lhs\n",
    "        siz: 30\n",
    "    Components: [LookupTableReservoir1, MultisegmentedWellbore1,\n",
    "                 FutureGen2AZMI1, FutureGen2AZMI2]\n",
    "    OutputDirectory: output/output_ex40_jupyter\n",
    "    Logging: Info\n",
    "#-------------------------------------------------"
   ]
  },
  {
   "cell_type": "markdown",
   "metadata": {},
   "source": [
    "Next, the control file specifies the stratigraphy of the model domain. All unit thicknesses are in meters. This stratigraphy is based on the FutureGen 2.0 site. Higher unit numbers are closer to the surface and shales and aquifers always alternate. For example, shale 1 ('shale1Thickness') is above the reservoir ('reservoirThickness'), aquifer 1 ('aquifer1Thickness') is above shale 1, and shale 2 ('shale2Thickness') is above aquifer 1. Spatially variable stratigraphy can be used in control files (see control file examples 33a to 38)."
   ]
  },
  {
   "cell_type": "raw",
   "metadata": {},
   "source": [
    "#-------------------------------------------------\n",
    "Stratigraphy:\n",
    "    numberOfShaleLayers: 5\n",
    "    shale1Thickness: 198.7\n",
    "    shale2Thickness: 74.4\n",
    "    shale3Thickness: 110.3\n",
    "    shale4Thickness: 118.9\n",
    "    shale5Thickness: 530.4\n",
    "    aquifer1Thickness: 33.2\n",
    "    aquifer2Thickness: 84.1\n",
    "    aquifer3Thickness: 31.1\n",
    "    aquifer4Thickness: 61.6\n",
    "    reservoirThickness: 7\n",
    "#-------------------------------------------------"
   ]
  },
  {
   "cell_type": "markdown",
   "metadata": {},
   "source": [
    "Here, a LookupTableReservoir component is used to portray reservoir conditions over time. This component reads reservoir pressures and CO$_2$ saturations from .csv files included in the FutureGen 2.0 data set (https://edx.netl.doe.gov/dataset/futuregen-2-0-1008-simulation-reservoir-lookup-table). Before this example can be run, the .zip file available on the mentioned web page must be downloaded. Then, the contents of the .zip file must be extracted and placed in the folder 'source/components/reservoir/lookuptables/FutureGen2/1008_sims' (where the 'source' folder is within the NRAP-Open-IAM directory).\n",
    "\n",
    "The name of the reservoir component is 'LookupTableReservoir1'; the component name is dictated by the first line in the component's section. The component type is specified through the entry 'Type: LookupTableReservoir', and the component outputs are specified through the entry 'Outputs: [pressure, CO2saturation]'. The details of the .csv files containing the output of reservoir simulations are presented through the entries 'FileDirectory', 'TimeFile', 'ParameterFilename', and 'Parameters: index: 5'. All of the .csv files used are in the directory entered for 'FileDirectory'. The index provided ('index: 5') specifies which row to use in the file entered under 'ParameterFilename' (different rows in that file contain different .csv file names each of which corresponds to a particular reservoir simulation). The .csv file provided for the 'TimeFile' entry contains the times used in the reservoir simulations."
   ]
  },
  {
   "cell_type": "raw",
   "metadata": {},
   "source": [
    "#-------------------------------------------------\n",
    "LookupTableReservoir1:\n",
    "    Type: LookupTableReservoir\n",
    "    FileDirectory: source/components/reservoir/lookuptables/FutureGen2/1008_sims\n",
    "    TimeFile: time_points.csv\n",
    "    ParameterFilename: parameters_and_filenames_trunc.csv\n",
    "    Parameters:\n",
    "        index: 5\n",
    "    Outputs: [pressure,\n",
    "              CO2saturation]\n",
    "#-------------------------------------------------"
   ]
  },
  {
   "cell_type": "markdown",
   "metadata": {},
   "source": [
    "The pressures and CO$_2$ saturations from the LookupTableReservoir component are then provided to a MultisegmentedWellbore component called 'MultisegmentedWellbore1'. The connection between the LookupTableReservoir1 component and this wellbore component is specified through the entry 'Connection: LookupTableReservoir1'. A MultisegmentedWellbore component will be created for two locations, as specified through the entry 'Number: 2'. These locations are specified through the coordx and coordy entries (easting and northing distances, in meters). The parameter values entered under 'Parameters' specify inputs like the wellbore radius ('wellRadius', in meters), the permeability of the wellbore along shale units ('logWellPerm'), and the wellbore permability across differrent aquifers (e.g., 'logAqu1Perm' for aquifer 1 and 'logAqu2Perm' for aquifer 2). Permeabilities are given in log$_{10}$ m$^2$. The logWellPerm parameter will vary stochastically between the minimum and maximum values provided ('min' and 'max'). The component outputs are specified under 'Outputs'. Note that MultisegmentedWellbore components have other parameters that are not included here (e.g., compressibility). Any parameters that are not setup by user values will automatically be assigned default parameter values."
   ]
  },
  {
   "cell_type": "raw",
   "metadata": {},
   "source": [
    "#-------------------------------------------------\n",
    "MultisegmentedWellbore1:\n",
    "    Type: MultisegmentedWellbore\n",
    "    Connection: LookupTableReservoir1\n",
    "    Number: 2\n",
    "    Locations:\n",
    "        coordx: [236377.0, 236758.0]\n",
    "        coordy: [4409269.5, 4410107.6]\n",
    "    Parameters:\n",
    "        wellRadius: 0.05715\n",
    "        logAqu1Perm:\n",
    "            value: -13.39\n",
    "            vary: False\n",
    "        logAqu2Perm:\n",
    "            value: -11.05\n",
    "            vary: False\n",
    "        logAqu3Perm:\n",
    "            value: -12.48\n",
    "            vary: False\n",
    "        logAqu4Perm:\n",
    "            value: -11.92\n",
    "            vary: False\n",
    "        logWellPerm:\n",
    "            min: -14.0\n",
    "            max: -11.0\n",
    "            value: -13.0\n",
    "        brineDensity: 1030.9\n",
    "        CO2Density: 775.0\n",
    "        brineViscosity: 7.5e-4\n",
    "        CO2Viscosity: 6.6e-5\n",
    "    Outputs: [CO2_aquifer1, CO2_aquifer2, CO2_aquifer3, CO2_aquifer4, CO2_atm,\n",
    "              brine_aquifer1, brine_aquifer2, brine_aquifer3, brine_aquifer4, brine_atm]\n",
    "#-------------------------------------------------"
   ]
  },
  {
   "cell_type": "markdown",
   "metadata": {},
   "source": [
    "The CO$_2$ and brine leakage rates produced by the MultisegmentedWellbore component are given as input to two FutureGen2AZMI aquifer components. Each aquifer component calculates the sizes of contaminant plumes over time. One component ('FutureGen2AZMI1') is set up to represent aquifer 1, while the other ('FutureGen2AZMI2') is set up to represent aquifer 3. This assignment is performed through the 'AquiferName' entry. While the MultisegmentedWellbore component was connected to the LookupTableReservoir component, each aquifer component is connected to the wellbore component through the entry 'Connection: MultisegmentedWellbore1'. The thickness and depth of the corresponding aquifer will automatically be assigned to each component, as is specified by the silenced text within the 'Parameters' subsection (i.e., the text preceeded by '#'). The Parameters section also specifies the porosity ('por'), permeability ('log_permh'), anisotropy ratio ('log_aniso'), and calcite within the unit ('rel_vol_frac_calcite'). The 'Outputs' entry specifies all of the output metrics to be produced by the aquifer component. The use of the TTFD plot for dissolved CO$_2$ plumes (as shown here) requires the inclusion of the Dissolved_CO2_dx, Dissolved_CO2_dy, and Dissolved_CO2_dz metrics."
   ]
  },
  {
   "cell_type": "raw",
   "metadata": {},
   "source": [
    "#-------------------------------------------------\n",
    "FutureGen2AZMI1:\n",
    "    Type: FutureGen2AZMI\n",
    "    Connection: MultisegmentedWellbore1\n",
    "    AquiferName: aquifer1\n",
    "    Parameters:\n",
    "        # aqu_thick (33.2 m for aquifer 1) and depth (1044 m) parameter do not need\n",
    "        # to be set up as they are linked to stratigraphy\n",
    "        por: 0.118\n",
    "        log_permh: -13.39\n",
    "        log_aniso: 0.3\n",
    "        rel_vol_frac_calcite: 0.1\n",
    "    Outputs: [pH_volume, TDS_volume, Dissolved_CO2_volume,\n",
    "              Dissolved_CO2_dx, Dissolved_CO2_dy, Dissolved_CO2_dz]\n",
    "#-------------------------------------------------\n",
    "FutureGen2AZMI2:\n",
    "    Type: FutureGen2AZMI\n",
    "    Connection: MultisegmentedWellbore1\n",
    "    AquiferName: aquifer3\n",
    "    Parameters:\n",
    "        # aqu_thick (31.1 m for aquifer 3) and depth (742 m) parameter do not need\n",
    "        # to be set up as they are linked to stratigraphy\n",
    "        por: 0.132\n",
    "        log_permh: -12.48\n",
    "        log_aniso: 0.3\n",
    "        rel_vol_frac_calcite: 0.1\n",
    "    Outputs: [pH_volume, TDS_volume, Dissolved_CO2_volume,\n",
    "              Dissolved_CO2_dx, Dissolved_CO2_dy, Dissolved_CO2_dz]\n",
    "#-------------------------------------------------"
   ]
  },
  {
   "cell_type": "markdown",
   "metadata": {},
   "source": [
    "Next, the .yaml control file specifies the figures to be produced through the 'Plots' section. The first three plots ('pH_plume_volumes', 'TDS_plume_volumes', and 'Dissolved_CO2_volumes') show different metrics over time. For more information regarding these plot types ('TimeSeriesAndStats' and 'TimeSeries'), see section 2.7, 'Setup of visualization options', of the NRAP-Open-IAM User Guide.\n",
    "\n",
    "The name of the TTFD plot entry is 'TTFD_Plot', and it is specified as a TTFD plot through the inclusion of 'TTFD' indented beneath the plot name. All of the options for the TTFD plot type are then indented under 'TTFD'. Two of these entries are required: 'PlumeType' and 'ComponentNameList'. 'PlumeType' specifies the kind of plumes being examined, while 'ComponentNameList' specifies the names of the aquifer components that produce the required output. The 'PlotInjectionSites' option specifies whether to show the injection site in the figures produced, and the 'InjectionCoordx' and 'InjectionCoordy' entries specify the injection site's location. The 'FigureDPI' entry specifies the dots-per-inch (dpi) of the figures. The options indented under the 'MonitoringLocations' entry specify details regarding the monitoring equipment used to detect contaminant plumes. The x, y, and z values (easting, northing, and depths, all in meters) are entered as lists following the 'coordx', 'coordy', and 'coordz' entries. For the 'coordz' entry, depths beneath the surface are entered as negative values. The 'HorizontalWindow' and 'VerticalWindow' entries specify the horizontal and vertical distances (m) within which the sensor will detect plumes. The 'VerticalWindow' input can be regarded as the vertical extent of sensors along the monitoring well, with sensors extending above and below each 'coordz' value."
   ]
  },
  {
   "cell_type": "raw",
   "metadata": {},
   "source": [
    "#-------------------------------------------------\n",
    "Plots:\n",
    "    pH_plume_volumes:\n",
    "        TimeSeriesAndStats: [pH_volume]\n",
    "        subplot:\n",
    "            use: True\n",
    "            ncols: 2\n",
    "    TDS_plume_volumes:\n",
    "        TimeSeriesAndStats: [TDS_volume]\n",
    "        subplot:\n",
    "            use: True\n",
    "            ncols: 2\n",
    "    Dissolved_CO2_volumes:\n",
    "        TimeSeries: [Dissolved_CO2_volume]\n",
    "        subplot:\n",
    "            use: True\n",
    "            ncols: 2\n",
    "    TTFD_Plot:\n",
    "        TTFD:\n",
    "            PlumeType: Dissolved_CO2\n",
    "            FigureDPI: 300\n",
    "            PlotInjectionSites: True\n",
    "            InjectionCoordx: 2.37e5\n",
    "            InjectionCoordy: 4.41e6\n",
    "            MonitoringLocations:\n",
    "                coordx: [236377.0, 236758.0, 236377.0, 236758.0]\n",
    "                coordy: [4409269.5, 4410107.6, 4409269.5, 4410107.6]\n",
    "                coordz: [-1015, -715, -1015, -715] # Near the tops of aquifers 1 and 3\n",
    "                HorizontalWindow: 1\n",
    "                VerticalWindow: 5\n",
    "            ComponentNameList: [FutureGen2AZMI1, FutureGen2AZMI2]\n",
    "#-------------------------------------------------"
   ]
  },
  {
   "cell_type": "markdown",
   "metadata": {},
   "source": [
    "When the control file is run, the TTFD plot entry will produce three types of map-view figures: (1) figures showing the timing of plume development in the aquifer(s) considered, (2) figures showing the eariest times at which the monitoring locations provided could detect the plumes (i.e., when the location is within a plume), and (3) figures showing the probability that a plume forms in different parts of the aquifer(s) considered. The first two types of figures are made for each of the 30 realizations in the simulation, while only one probability figure is created. The probability is calculated as the number of realizations in which a plume occured at a particular location divided by the total number of realizations. All results will be saved as .csv files. Running an NRAP-Open-IAM control file depends on the type of computer used and how it was installed; for more information, see section 1.3, 'Installing NRAP-Open-IAM', of the User Guide. A control file is normally run through a command prompt (e.g., Anaconda Prompt on Anaconda Navigator). Below, we run control file example 40 through a script-based approach.\n",
    "\n",
    "Note that this simulation take some time to run (e.g., about two to three minutes). The output will be saved to a folder called 'output_ex40_jupyter' in the 'output' folder of the NRAP-Open-IAM directory. The control file interface will print messages regarding the status of the simulation (e.g., 'Running file' or 'Analysis completed'). Once the simulation has finished and the TTFD plots are being made, one can find the figures in the 'output_ex40_jupyter' folder. Once the TTFD analysis has finished, the code below will print the statement 'Finished'.\n",
    "\n",
    "Note that the version of control file example 40 used ('ControlFile_ex40_jupyter.yaml') is the same as the normal version ('ControlFile_ex40.yaml'), except the output directory has been changed to make accessing the output more convenient (i.e., the folder name will not contain the exact time at which it was created)."
   ]
  },
  {
   "cell_type": "code",
   "execution_count": null,
   "metadata": {},
   "outputs": [],
   "source": [
    "import sys\n",
    "import os\n",
    "from datetime import datetime\n",
    "\n",
    "# Add the source folder to the path\n",
    "sys.path.insert(0, os.sep.join(['..', '..', 'source']))\n",
    "\n",
    "# Name of the control file\n",
    "file_name = 'ControlFile_ex40_jupyter.yaml'\n",
    "\n",
    "file_path = os.path.join(os.getcwd(), '..', 'Control_Files', \n",
    "                         'examples_for_jupyter_notebook', file_name)\n",
    "\n",
    "source_dir = os.path.join(os.getcwd(), '..', '..', 'source')\n",
    "\n",
    "# Path to the file openiam_cf.py, which is used to run control files\n",
    "run_file = os.path.join(source_dir, 'openiam', 'openiam_cf.py')\n",
    "\n",
    "# Set up the command to run the control file. The command has the format \n",
    "# 'python /path/to/openiam_cf.py --file ControlFile_ex40_jupyter.yaml'.\n",
    "run_command = '\"{0}\" --file \"{1}\"'.format(\n",
    "     run_file, file_path)"
   ]
  },
  {
   "cell_type": "code",
   "execution_count": null,
   "metadata": {},
   "outputs": [],
   "source": [
    "print('Running Control File example 40...')\n",
    "\n",
    "# Run the control file\n",
    "%run -i $run_command\n",
    "\n",
    "print('Finished.')"
   ]
  },
  {
   "cell_type": "markdown",
   "metadata": {},
   "source": [
    "Now, wait for the control file to finish running. The TTFD plot type will continue to run for some time after the code above print '100% 30 of 30 samples collected' (indicating that all 30 of the realizations are finished). When the TTFD plots are finished, the code above will print the statement 'Finished'.\n",
    "\n",
    "It will make figures for each of the 30 realizations. You can check the output folder ('output_ex40_jupyter') to see when figures are produced. If the figures have been produced, the code below loads three of the figures. Otherwise, it will print a statement saying that the figure could not be found.\n",
    "\n",
    "The figure 'Dissolved_CO2_Plume_Timings_Realization_0.png' shows the spatiotemporal evolution of dissolved CO$_2$ plumes in the first realization (index 0). There are four subplots, and each subplot shows one quarter of the depth range used in the simulation (which is set by the stratigraphy). The top of the figure has the statement 'Layers with Lower Times Shown Above Other Layers' because each subplot contains different layers for different depth intervals. Depth intervals that never had any plumes will not have any color-labelled results shown. Because these figures are meant to focus on the earliest times at which plumes occur, layers that have later times are shown beneath other layers. However, the results for all depth intervals are saved as .csv files.\n",
    "\n",
    "The figure 'Dissolved_CO2_Monitoring_TTFD_Realization_0.png' shows when the dissolved CO$_2$ plumes first arrive at the monitoring wells specified in the first realization (index 0).\n",
    "\n",
    "The figure 'Dissolved_CO2_Plume_Probabilities.png' shows the probability that a dissolved CO$_2$ plume will occur in different regions of the two aquifers considered (aquifer 1 and aquifer 3). Like the first figure, this probability figure has four subplots that each shows results for one quarter of the depth range and each subplot contains multiple depth intervals."
   ]
  },
  {
   "cell_type": "code",
   "execution_count": null,
   "metadata": {
    "scrolled": false
   },
   "outputs": [],
   "source": [
    "import matplotlib.pyplot as plt\n",
    "import matplotlib.image as mpimg\n",
    "\n",
    "%matplotlib inline\n",
    "\n",
    "figure_names = ['Dissolved_CO2_Plume_Timings_Realization_0.png',\n",
    "                'Dissolved_CO2_Monitoring_TTFD_Realization_0.png',\n",
    "                'Dissolved_CO2_Plume_Probabilities.png']\n",
    "\n",
    "example_output_directory = os.path.join(os.getcwd(), '..', '..', 'output', 'output_ex40_jupyter')\n",
    "\n",
    "for figRef in range(len(figure_names)):\n",
    "    file_path = os.path.join(example_output_directory, figure_names[figRef])\n",
    "    \n",
    "    check_for_figure = os.path.exists(file_path)\n",
    "    \n",
    "    if check_for_figure:\n",
    "        img = mpimg.imread(file_path)\n",
    "        \n",
    "        # fig, ax = subplots(figsize=(20, 16))\n",
    "        fig = plt.figure(figRef + 1, figsize=(15, 12), dpi=300)\n",
    "        ax = plt.gca()\n",
    "        \n",
    "        ax.imshow(img, interpolation='nearest')\n",
    "        \n",
    "        # We do not need the ticks from imshow, the figure file has its own ticks\n",
    "        ax.axes.get_xaxis().set_ticks([])\n",
    "        ax.axes.get_yaxis().set_ticks([])\n",
    "        \n",
    "        # We also do not need the spline added by imshow\n",
    "        plt.setp(ax.spines.values(), alpha = 0)\n",
    "    else:\n",
    "        print('The figure {} was not found.'.format(file_path))\n",
    "\n",
    "plt.show()"
   ]
  },
  {
   "cell_type": "markdown",
   "metadata": {},
   "source": [
    "The TTFD plot type can be used to examine worst-case scenarios of wellbore leakage and demonstrate that certain monitoring well locations can quickly detect contaminant plumes in an aquifer.\n",
    "\n",
    "The TTFD plot type can also produce the .iam files used as input to the DREAM (Design for Risk Evaluation And Management) tool, also developed by NRAP. Such files will be produced if the entry for the TTFD plot contains the option 'WriteDreamOutput: True' indented under 'TTFD' (see control file example 41). DREAM can be used to optimize a monitoring network given simulated contaminant plumes in an aquifer."
   ]
  }
 ],
 "metadata": {
  "kernelspec": {
   "display_name": "Python 3 (ipykernel)",
   "language": "python",
   "name": "python3"
  },
  "language_info": {
   "codemirror_mode": {
    "name": "ipython",
    "version": 3
   },
   "file_extension": ".py",
   "mimetype": "text/x-python",
   "name": "python",
   "nbconvert_exporter": "python",
   "pygments_lexer": "ipython3",
   "version": "3.9.7"
  }
 },
 "nbformat": 4,
 "nbformat_minor": 2
}
