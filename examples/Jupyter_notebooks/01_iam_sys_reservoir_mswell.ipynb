{
 "cells": [
  {
   "cell_type": "markdown",
   "metadata": {},
   "source": [
    "# Example 1: Simple reservoir and multisegmented wellbore components."
   ]
  },
  {
   "cell_type": "markdown",
   "metadata": {},
   "source": [
    "This example demonstrates how to couple the simple reservoir and multisegmented wellbore component models of the NRAP Open-source Integrated Assessment Model (NRAP Open-IAM). The simple reservoir model is used to simulate the saturation and pressure in a reservoir during a 50-year injection of CO$_2$. The output produced by the simple reservoir model is used by a single instance of the multisegmented wellbore model to calculate leakage along a nearby well."
   ]
  },
  {
   "cell_type": "markdown",
   "metadata": {},
   "source": [
    "First, we set the backend of matplotlib to the 'inline' backend (specific for Jupyter notebooks) so that result of all plotting commands is displayed inline directly below the code cell that produces it."
   ]
  },
  {
   "cell_type": "code",
   "execution_count": 1,
   "metadata": {},
   "outputs": [],
   "source": [
    "%matplotlib inline"
   ]
  },
  {
   "cell_type": "markdown",
   "metadata": {},
   "source": [
    "#### 1) Import the standard and third party needed libraries."
   ]
  },
  {
   "cell_type": "code",
   "execution_count": 2,
   "metadata": {},
   "outputs": [],
   "source": [
    "import sys\n",
    "import os\n",
    "sys.path.insert(0, os.sep.join(['..', '..', 'source']))\n",
    "import matplotlib.pyplot as plt\n",
    "import numpy as np"
   ]
  },
  {
   "cell_type": "markdown",
   "metadata": {},
   "source": [
    "#### 2) Import classes of OpenIAM utilized in the example."
   ]
  },
  {
   "cell_type": "code",
   "execution_count": 3,
   "metadata": {},
   "outputs": [],
   "source": [
    "from openiam import SystemModel, SimpleReservoir, MultisegmentedWellbore"
   ]
  },
  {
   "cell_type": "markdown",
   "metadata": {},
   "source": [
    "#### 3) Define parameters of the system model and create it."
   ]
  },
  {
   "cell_type": "code",
   "execution_count": 4,
   "metadata": {},
   "outputs": [
    {
     "name": "stdout",
     "output_type": "stream",
     "text": [
      "System model time points (in years):\n",
      " [ 0.  1.  2.  3.  4.  5.  6.  7.  8.  9. 10. 11. 12. 13. 14. 15. 16. 17.\n",
      " 18. 19. 20. 21. 22. 23. 24. 25. 26. 27. 28. 29. 30. 31. 32. 33. 34. 35.\n",
      " 36. 37. 38. 39. 40. 41. 42. 43. 44. 45. 46. 47. 48. 49. 50.]\n"
     ]
    }
   ],
   "source": [
    "# Define keyword arguments of the system model\n",
    "num_years = 50\n",
    "time_array = 365.25*np.arange(0.0, num_years+1)\n",
    "print('System model time points (in years):\\n', time_array/365.25)\n",
    "# For system model setup time is provided in days\n",
    "sm_model_kwargs = {'time_array': time_array}"
   ]
  },
  {
   "cell_type": "code",
   "execution_count": 5,
   "metadata": {
    "scrolled": true
   },
   "outputs": [],
   "source": [
    "# Create system model\n",
    "sm = SystemModel(model_kwargs=sm_model_kwargs)"
   ]
  },
  {
   "cell_type": "markdown",
   "metadata": {},
   "source": [
    "In the following steps we add components of the system model and define their input and output. The components are created and added to the system model in the order they are supposed to be run.\n",
    "\n",
    "#### 4) Add reservoir component since its observations serve as input for the multisegmented wellbore component.\n",
    "The addition of a reservoir component requires:\n",
    " - creation of the model object;\n",
    " - addition of necessary model parameters;\n",
    " - addition of observations that will be used by analysis or plotting;\n",
    " - identification of observations that will be used by and \"linked\" to other model components."
   ]
  },
  {
   "cell_type": "code",
   "execution_count": 6,
   "metadata": {},
   "outputs": [],
   "source": [
    "# Add reservoir component\n",
    "sres = sm.add_component_model_object(SimpleReservoir(name='sres', parent=sm))"
   ]
  },
  {
   "cell_type": "code",
   "execution_count": 7,
   "metadata": {},
   "outputs": [],
   "source": [
    "# Add parameters of reservoir component model\n",
    "sres.add_par('numberOfShaleLayers', value=3, vary=False)\n",
    "sres.add_par('shale1Thickness', min=30.0, max=150., value=45.0)\n",
    "sres.add_par('aquifer1Thickness', min=100.0, max=500.0, value=300.0)\n",
    "sres.add_par('injRate', min=0.1, max=10.0, value=1.0)"
   ]
  },
  {
   "cell_type": "code",
   "execution_count": 8,
   "metadata": {},
   "outputs": [],
   "source": [
    "# Add observations of reservoir component model \n",
    "# that are to be used by other components\n",
    "sres.add_obs_to_be_linked('pressure')\n",
    "sres.add_obs_to_be_linked('CO2saturation')"
   ]
  },
  {
   "cell_type": "code",
   "execution_count": 9,
   "metadata": {},
   "outputs": [],
   "source": [
    "# Add observations of reservoir component model \n",
    "# that are to be used by analysis or plotting\n",
    "sres.add_obs('pressure')\n",
    "sres.add_obs('CO2saturation')\n",
    "sres.add_obs('mass_CO2_reservoir')"
   ]
  },
  {
   "cell_type": "markdown",
   "metadata": {},
   "source": [
    "#### 5) Add the multisegmented wellbore component.\n",
    "Adding a wellbore component is more complex than adding a simple reservoir component. The setup requires:\n",
    "- creation of the model object;\n",
    "- addition of model parameters;\n",
    "- linking of the parameters shared by the reservoir and wellbore components back to the reservoir component;\n",
    "- linking of needed inputs from observations of the reservoir component. "
   ]
  },
  {
   "cell_type": "code",
   "execution_count": 10,
   "metadata": {},
   "outputs": [],
   "source": [
    "# Add multisegmented wellbore component\n",
    "ms = sm.add_component_model_object(MultisegmentedWellbore(name='ms',parent=sm))"
   ]
  },
  {
   "cell_type": "code",
   "execution_count": 11,
   "metadata": {},
   "outputs": [],
   "source": [
    "# Add parameters of multisegmented wellbore component\n",
    "ms.add_par('wellRadius', min=0.01, max=0.02, value=0.015)\n",
    "ms.add_par('logWellPerm', min=-14.0, max=-12.0, value=-13.0)"
   ]
  },
  {
   "cell_type": "code",
   "execution_count": 12,
   "metadata": {},
   "outputs": [],
   "source": [
    "# Add linked parameters: common to reservoir and wellbore components\n",
    "ms.add_par_linked_to_par('numberOfShaleLayers', \n",
    "                         sres.deterministic_pars['numberOfShaleLayers'])\n",
    "ms.add_par_linked_to_par('shale1Thickness', \n",
    "                         sres.pars['shale1Thickness'])\n",
    "ms.add_par_linked_to_par('shale2Thickness', \n",
    "                         sres.default_pars['shaleThickness'])\n",
    "ms.add_par_linked_to_par('shale3Thickness', \n",
    "                         sres.default_pars['shaleThickness'])\n",
    "ms.add_par_linked_to_par('aquifer1Thickness', \n",
    "                         sres.pars['aquifer1Thickness'])\n",
    "ms.add_par_linked_to_par('aquifer2Thickness', \n",
    "                         sres.default_pars['aquiferThickness'])\n",
    "ms.add_par_linked_to_par('reservoirThickness', \n",
    "                         sres.default_pars['reservoirThickness'])\n",
    "ms.add_par_linked_to_par('datumPressure', \n",
    "                         sres.default_pars['datumPressure'])"
   ]
  },
  {
   "cell_type": "code",
   "execution_count": 13,
   "metadata": {},
   "outputs": [],
   "source": [
    "# Add keyword arguments linked to the output provided by reservoir model\n",
    "ms.add_kwarg_linked_to_obs('pressure', sres.linkobs['pressure'])\n",
    "ms.add_kwarg_linked_to_obs('CO2saturation', sres.linkobs['CO2saturation'])"
   ]
  },
  {
   "cell_type": "code",
   "execution_count": 14,
   "metadata": {},
   "outputs": [],
   "source": [
    "# Add observations of multisegmented wellbore component model\n",
    "ms.add_obs('brine_aquifer1')  # leakage rates of brine through well to aquifer 1\n",
    "ms.add_obs('CO2_aquifer1')    # leakage rates of CO2 through well to aquifer 1"
   ]
  },
  {
   "cell_type": "markdown",
   "metadata": {},
   "source": [
    "#### 6) Run simulation."
   ]
  },
  {
   "cell_type": "code",
   "execution_count": 15,
   "metadata": {},
   "outputs": [],
   "source": [
    "# Run system model using current values of its parameters\n",
    "forward_simulation_results = sm.forward()  # system model is run deterministically"
   ]
  },
  {
   "cell_type": "markdown",
   "metadata": {},
   "source": [
    "#### 7) Collect observations."
   ]
  },
  {
   "cell_type": "code",
   "execution_count": 16,
   "metadata": {},
   "outputs": [],
   "source": [
    "# Collect observations from the system model\n",
    "pressure = sm.collect_observations_as_time_series(sres, 'pressure')\n",
    "CO2_saturation = sm.collect_observations_as_time_series(sres, 'CO2saturation')\n",
    "CO2_aquifer1 = sm.collect_observations_as_time_series(ms, 'CO2_aquifer1')\n",
    "brine_aquifer1 = sm.collect_observations_as_time_series(ms, 'brine_aquifer1')"
   ]
  },
  {
   "cell_type": "markdown",
   "metadata": {},
   "source": [
    "#### 8) Print simulation results.\n",
    "Results include:\n",
    "- pressure and CO$_2$ saturation at the bottom of the well;\n",
    "- predicted leakage rates of brine and CO$_2$ through the well.\n"
   ]
  },
  {
   "cell_type": "code",
   "execution_count": 17,
   "metadata": {},
   "outputs": [
    {
     "name": "stdout",
     "output_type": "stream",
     "text": [
      "------------------------------------------------------------------\n",
      "                  Results of forward simulation                   \n",
      "------------------------------------------------------------------\n",
      "Pressure\n",
      "[ 9362325.         55447817.61754523 58244361.45288173 59880237.847518\n",
      " 61040911.48651027 61941200.2668406  62676789.94724705 63298722.26875529\n",
      " 63837464.61929019 64312669.09668459 64737754.01945122 65122290.13031396\n",
      " 65473344.11307821 65796282.48616937 66095276.72974403 66373633.71984959\n",
      " 66634019.30164713 66878613.96425684 67109223.95121682 67327362.28976567\n",
      " 67534309.01172367 67731156.66626853 67918845.23528296 68098189.28105164\n",
      " 68269899.31196102 68434598.78378333 68592837.7645177  68745104.01892251\n",
      " 68891832.07620569 69033410.70581433 69170189.12534279 69302482.19015291\n",
      " 69430574.7587929  69554725.38646759 69675169.46697845 69792121.9191032\n",
      " 69905779.49445027 70016322.76904105 70123917.86924654 70228717.97349545\n",
      " 70330864.62382725 70430488.87547275 70527712.30788788 70622647.91680738\n",
      " 70715400.90373483 70806069.37670214 70894744.97400276 70981513.42084047\n",
      " 71066455.02736983 71149645.13538061 71231154.51985317]\n",
      "------------------------------------------------------------------\n",
      "CO2 saturation\n",
      "[0.         0.71918341 0.9        0.9        0.9        0.9\n",
      " 0.9        0.9        0.9        0.9        0.9        0.9\n",
      " 0.9        0.9        0.9        0.9        0.9        0.9\n",
      " 0.9        0.9        0.9        0.9        0.9        0.9\n",
      " 0.9        0.9        0.9        0.9        0.9        0.9\n",
      " 0.9        0.9        0.9        0.9        0.9        0.9\n",
      " 0.9        0.9        0.9        0.9        0.9        0.9\n",
      " 0.9        0.9        0.9        0.9        0.9        0.9\n",
      " 0.9        0.9        0.9       ]\n",
      "------------------------------------------------------------------\n",
      "CO2 leakage rates to aquifer 1\n",
      "[0.         0.00062977 0.0008346  0.00086264 0.00088254 0.00089797\n",
      " 0.00091059 0.00092125 0.00093048 0.00093863 0.00094592 0.00095251\n",
      " 0.00095853 0.00096406 0.00096919 0.00097396 0.00097843 0.00098262\n",
      " 0.00098657 0.00099031 0.00099386 0.00099724 0.00100045 0.00100353\n",
      " 0.00100647 0.00100929 0.00101201 0.00101462 0.00101713 0.00101956\n",
      " 0.00102191 0.00102417 0.00102637 0.0010285  0.00103056 0.00103257\n",
      " 0.00103452 0.00103641 0.00103826 0.00104005 0.0010418  0.00104351\n",
      " 0.00104518 0.00104681 0.0010484  0.00104995 0.00105147 0.00105296\n",
      " 0.00105441 0.00105584 0.00105724]\n",
      "------------------------------------------------------------------\n",
      "Brine leakage rates to aquifer 1\n",
      "[0.00000000e+00 5.69438607e-06 0.00000000e+00 0.00000000e+00\n",
      " 0.00000000e+00 0.00000000e+00 0.00000000e+00 0.00000000e+00\n",
      " 0.00000000e+00 0.00000000e+00 0.00000000e+00 0.00000000e+00\n",
      " 0.00000000e+00 0.00000000e+00 0.00000000e+00 0.00000000e+00\n",
      " 0.00000000e+00 0.00000000e+00 0.00000000e+00 0.00000000e+00\n",
      " 0.00000000e+00 0.00000000e+00 0.00000000e+00 0.00000000e+00\n",
      " 0.00000000e+00 0.00000000e+00 0.00000000e+00 0.00000000e+00\n",
      " 0.00000000e+00 0.00000000e+00 0.00000000e+00 0.00000000e+00\n",
      " 0.00000000e+00 0.00000000e+00 0.00000000e+00 0.00000000e+00\n",
      " 0.00000000e+00 0.00000000e+00 0.00000000e+00 0.00000000e+00\n",
      " 0.00000000e+00 0.00000000e+00 0.00000000e+00 0.00000000e+00\n",
      " 0.00000000e+00 0.00000000e+00 0.00000000e+00 0.00000000e+00\n",
      " 0.00000000e+00 0.00000000e+00 0.00000000e+00]\n",
      "------------------------------------------------------------------\n"
     ]
    }
   ],
   "source": [
    "# Print observations\n",
    "print('------------------------------------------------------------------')\n",
    "print('                  Results of forward simulation                   ')\n",
    "print('------------------------------------------------------------------')\n",
    "print('Pressure', pressure, sep='\\n')\n",
    "print('------------------------------------------------------------------')\n",
    "print('CO2 saturation', CO2_saturation, sep='\\n')\n",
    "print('------------------------------------------------------------------')\n",
    "print('CO2 leakage rates to aquifer 1', CO2_aquifer1, sep='\\n')\n",
    "print('------------------------------------------------------------------')\n",
    "print('Brine leakage rates to aquifer 1', brine_aquifer1, sep='\\n')\n",
    "print('------------------------------------------------------------------')"
   ]
  },
  {
   "cell_type": "markdown",
   "metadata": {},
   "source": [
    "#### 9) Create figures.\n",
    "\n",
    "The following figure shows the evolution of the system model observations in time."
   ]
  },
  {
   "cell_type": "code",
   "execution_count": 18,
   "metadata": {},
   "outputs": [
    {
     "data": {
      "image/png": "[encoded data removed]",
      "text/plain": [
       "<Figure size 864x576 with 4 Axes>"
      ]
     },
     "metadata": {},
     "output_type": "display_data"
    }
   ],
   "source": [
    "# Create figure\n",
    "fig, axes = plt.subplots(2, 2, figsize=(12, 8))\n",
    "\n",
    "# Define figure parameters\n",
    "line_width = 1\n",
    "label_font_size = 14\n",
    "tick_font_size = 12\n",
    "\n",
    "# Add first subplot\n",
    "axes[0, 0].plot(time_array[0:]/365.25, pressure/1.0e+6, \n",
    "               '-r', linewidth=line_width)\n",
    "axes[0, 0].set_xlabel('Time, t [years]', fontsize=label_font_size)\n",
    "axes[0, 0].set_ylabel(r'Pressure, P [MPa]', fontsize=label_font_size)\n",
    "axes[0, 0].tick_params(labelsize=tick_font_size)\n",
    "\n",
    "# Add second subplot\n",
    "axes[0, 1].plot(time_array[0:]/365.25, CO2_saturation, \n",
    "               '-r', linewidth=line_width)\n",
    "axes[0, 1].set_xlabel('Time, t [years]', fontsize=label_font_size)\n",
    "axes[0, 1].set_ylabel(r'CO$_2$ saturation, S [-]', fontsize=label_font_size)\n",
    "axes[0, 1].tick_params(labelsize=tick_font_size)\n",
    "\n",
    "# Add third subplot\n",
    "axes[1, 0].plot(time_array[0:]/365.25, CO2_aquifer1, \n",
    "               '-b', linewidth=line_width)\n",
    "axes[1, 0].set_xlabel('Time, t [years]', fontsize=label_font_size)\n",
    "axes[1, 0].set_ylabel(r'Leakage rates, Q$_{CO_2}$ [kg/s]', fontsize=label_font_size)\n",
    "axes[1, 0].tick_params(labelsize=tick_font_size)\n",
    "\n",
    "# Add fourth subplot\n",
    "axes[1, 1].plot(time_array[0:]/365.25, brine_aquifer1, \n",
    "               '-b', linewidth=line_width)\n",
    "axes[1, 1].set_xlabel('Time, t [years]', fontsize=label_font_size)\n",
    "axes[1, 1].set_ylabel(r'Leakage rates, Q$_{brine}$ [kg/s]', fontsize=label_font_size)\n",
    "axes[1, 1].tick_params(labelsize=tick_font_size)\n",
    "\n",
    "# Align y-labels of subplots\n",
    "fig.align_ylabels()\n",
    "\n",
    "# Adjust width space between subplots\n",
    "plt.subplots_adjust(wspace=0.4)"
   ]
  }
 ],
 "metadata": {
  "kernelspec": {
   "display_name": "Python 3",
   "language": "python",
   "name": "python3"
  },
  "language_info": {
   "codemirror_mode": {
    "name": "ipython",
    "version": 3
   },
   "file_extension": ".py",
   "mimetype": "text/x-python",
   "name": "python",
   "nbconvert_exporter": "python",
   "pygments_lexer": "ipython3",
   "version": "3.6.5"
  }
 },
 "nbformat": 4,
 "nbformat_minor": 2
}
